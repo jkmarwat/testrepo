{
 "cells": [
  {
   "cell_type": "markdown",
   "metadata": {},
   "source": [
    "<center>\n",
    "    <img src=\"https://cf-courses-data.s3.us.cloud-object-storage.appdomain.cloud/IBMDeveloperSkillsNetwork-DS0105EN-SkillsNetwork/labs/Module2/images/SN_web_lightmode.png\" width=\"300\" alt=\"cognitiveclass.ai logo\">\n",
    "</center>\n"
   ]
  },
  {
   "cell_type": "markdown",
   "metadata": {},
   "source": [
    "#### Add your code below following the instructions given in the course\n"
   ]
  },
  {
   "cell_type": "markdown",
   "metadata": {},
   "source": [
    "# Title: My Data Science Knowlege"
   ]
  },
  {
   "cell_type": "markdown",
   "metadata": {},
   "source": [
    "## Introduction\n",
    "***\n",
    "*I am learning courses offered by IBM Skills Network. I enjoyed it to a great extent. This notebook is a brief summary of the knowledge I gained regarding Data Science and the related available tools in the market.*"
   ]
  },
  {
   "cell_type": "markdown",
   "metadata": {},
   "source": [
    "## Data Science Languages\n",
    "***\n",
    "1. Python\n",
    "1. R\n",
    "1. SQL\n",
    "1. Java\n",
    "1. Julia\n",
    "1. Scala\n",
    "1. C/C++\n",
    "1. JavaScript\n",
    "1. Swift\n",
    "1. Go\n",
    "1. MATLAB\n",
    "1. SAS"
   ]
  },
  {
   "cell_type": "markdown",
   "metadata": {},
   "source": [
    "## Data Science Libraries\n",
    "***\n",
    "- TensorFlow\n",
    "- SciPy\n",
    "- NumPy\n",
    "- Pandas\n",
    "- Matplotlib\n",
    "- Keras\n",
    "- Scikit-learn\n",
    "- PyTorch\n",
    "- Scrapy\n",
    "- BeautifulSoup"
   ]
  },
  {
   "cell_type": "markdown",
   "metadata": {},
   "source": [
    "## Data Science Tools\n",
    "***\n",
    "| List 1 | List 2 | List 3 |\n",
    "| :- | :-: | -: |\n",
    "| Stretched | Gaussian | .843\n",
    "| Apache Spark | SAS | BigML\n",
    "| Scikit-learn | MATLAB | Excel\n",
    "| ggplot2 | Tableau | Jupyter\n",
    "| Matplotlib | NLTK | D3\n",
    "| TensorFlow | Weka\n",
    "\n",
    "\n"
   ]
  },
  {
   "cell_type": "markdown",
   "metadata": {},
   "source": [
    "### Arithmetic Expressions with examples of Addition and Subtraction\n",
    "**Overview**<br>\n",
    "An Arithmetic Operator is a mathematical function that performs a calculation on two operands.\n",
    "The different types of arithmetic operators include addition, subtraction, multiplication,\n",
    "division, modulus, exponentiation and floor division.\n",
    "\n",
    "**Scope** <br>\n",
    "This article defines the different types of arithmetic operators that we can implement in Python.\n",
    "The article also delves into their practical implementation with examples.\n",
    "\n",
    "**1. Addition**\n",
    "\n",
    "**Code:**<br>\n",
    "var1=10\n",
    "var2=30\n",
    "sum=var1+var2\n",
    "print(\"The sum of\",var1,\"and\",var2,\"is:\",sum)\n",
    "\n",
    "**Output:**<br>\n",
    "The sum of 10 and 30 is: 40\n",
    "\n",
    "**2. Subtraction:**<br>\n",
    "**Code:**<br>\n",
    "var1=50\n",
    "var2=30\n",
    "diff=var1-var2\n",
    "print(\"The difference between\",var1,\"and\",var2,\"is:\",diff)\n",
    "\n",
    "**Output:**<br>\n",
    "The difference between 50 and 30 is: 20"
   ]
  },
  {
   "cell_type": "code",
   "execution_count": 6,
   "metadata": {},
   "outputs": [
    {
     "data": {
      "text/plain": [
       "8"
      ]
     },
     "execution_count": 6,
     "metadata": {},
     "output_type": "execute_result"
    }
   ],
   "source": [
    "2 + 2 * 3"
   ]
  },
  {
   "cell_type": "code",
   "execution_count": 8,
   "metadata": {},
   "outputs": [
    {
     "data": {
      "text/plain": [
       "2.0"
      ]
     },
     "execution_count": 8,
     "metadata": {},
     "output_type": "execute_result"
    }
   ],
   "source": [
    "minutes = 120\n",
    "hours = minutes / 60\n",
    "hours"
   ]
  },
  {
   "cell_type": "markdown",
   "metadata": {},
   "source": [
    "### Objectives\n",
    "This course is an introduction to:\n",
    "1. Data Science Languages\n",
    "1. Data Science Libraries\n",
    "1. Data Science Tools\n",
    "1. Introducing arithmetic expressions with examples\n",
    "1. Simple Python coding for arithmetic operations"
   ]
  },
  {
   "cell_type": "markdown",
   "metadata": {},
   "source": [
    "### Author's Name\n",
    "J. Khan"
   ]
  }
 ],
 "metadata": {
  "kernelspec": {
   "display_name": "Python",
   "language": "python",
   "name": "conda-env-python-py"
  },
  "language_info": {
   "codemirror_mode": {
    "name": "ipython",
    "version": 3
   },
   "file_extension": ".py",
   "mimetype": "text/x-python",
   "name": "python",
   "nbconvert_exporter": "python",
   "pygments_lexer": "ipython3",
   "version": "3.7.12"
  }
 },
 "nbformat": 4,
 "nbformat_minor": 4
}
